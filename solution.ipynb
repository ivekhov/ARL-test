{
 "cells": [
  {
   "cell_type": "markdown",
   "metadata": {},
   "source": [
    "# Определение пар товаров, которые покупают вместе\n",
    "\n",
    "Пары товаров подобраны по ассоциативным правилам (Association Rules) с помощью алгоритма apriori, реализованного в библиотеке MLxtend для Python (http://rasbt.github.io/mlxtend/user_guide/frequent_patterns/association_rules/)"
   ]
  },
  {
   "cell_type": "markdown",
   "metadata": {},
   "source": [
    "### Подключение библиотек, подгрузка, группировка, выборка данных для модели"
   ]
  },
  {
   "cell_type": "code",
   "execution_count": 5,
   "metadata": {},
   "outputs": [],
   "source": [
    "# подключаем библиотеки numpy, pandas, mlxtend\n",
    "\n",
    "import pandas as pd\n",
    "import numpy as np\n",
    "\n",
    "from mlxtend.preprocessing import TransactionEncoder\n",
    "from mlxtend.frequent_patterns import apriori as apriori\n",
    "from mlxtend.frequent_patterns import association_rules"
   ]
  },
  {
   "cell_type": "code",
   "execution_count": 6,
   "metadata": {},
   "outputs": [
    {
     "data": {
      "text/html": [
       "<div>\n",
       "<style scoped>\n",
       "    .dataframe tbody tr th:only-of-type {\n",
       "        vertical-align: middle;\n",
       "    }\n",
       "\n",
       "    .dataframe tbody tr th {\n",
       "        vertical-align: top;\n",
       "    }\n",
       "\n",
       "    .dataframe thead th {\n",
       "        text-align: right;\n",
       "    }\n",
       "</style>\n",
       "<table border=\"1\" class=\"dataframe\">\n",
       "  <thead>\n",
       "    <tr style=\"text-align: right;\">\n",
       "      <th></th>\n",
       "      <th>order_id</th>\n",
       "      <th>_date</th>\n",
       "      <th>user_id</th>\n",
       "      <th>plu_id</th>\n",
       "      <th>category_id</th>\n",
       "      <th>parent_category_id</th>\n",
       "      <th>product_quantity</th>\n",
       "      <th>product_sum</th>\n",
       "    </tr>\n",
       "  </thead>\n",
       "  <tbody>\n",
       "    <tr>\n",
       "      <th>0</th>\n",
       "      <td>5efc2687f59a7f82441fe4ca</td>\n",
       "      <td>2020-07-01 09:00:39+03</td>\n",
       "      <td>5efb12173849bd7ecc4cdb50</td>\n",
       "      <td>3383918</td>\n",
       "      <td>855.0</td>\n",
       "      <td>1105.0</td>\n",
       "      <td>1.0</td>\n",
       "      <td>49.9</td>\n",
       "    </tr>\n",
       "    <tr>\n",
       "      <th>1</th>\n",
       "      <td>5efc2687f59a7f82441fe4ca</td>\n",
       "      <td>2020-07-01 09:00:39+03</td>\n",
       "      <td>5efb12173849bd7ecc4cdb50</td>\n",
       "      <td>3489545</td>\n",
       "      <td>853.0</td>\n",
       "      <td>849.0</td>\n",
       "      <td>1.0</td>\n",
       "      <td>89.9</td>\n",
       "    </tr>\n",
       "    <tr>\n",
       "      <th>2</th>\n",
       "      <td>5efc2687f59a7f82441fe4ca</td>\n",
       "      <td>2020-07-01 09:00:39+03</td>\n",
       "      <td>5efb12173849bd7ecc4cdb50</td>\n",
       "      <td>2068955</td>\n",
       "      <td>839.0</td>\n",
       "      <td>834.0</td>\n",
       "      <td>1.0</td>\n",
       "      <td>99.9</td>\n",
       "    </tr>\n",
       "    <tr>\n",
       "      <th>3</th>\n",
       "      <td>5efc2687f59a7f82441fe4ca</td>\n",
       "      <td>2020-07-01 09:00:39+03</td>\n",
       "      <td>5efb12173849bd7ecc4cdb50</td>\n",
       "      <td>3435295</td>\n",
       "      <td>838.0</td>\n",
       "      <td>834.0</td>\n",
       "      <td>2.0</td>\n",
       "      <td>33.8</td>\n",
       "    </tr>\n",
       "    <tr>\n",
       "      <th>4</th>\n",
       "      <td>5efc2687f59a7f82441fe4ca</td>\n",
       "      <td>2020-07-01 09:00:39+03</td>\n",
       "      <td>5efb12173849bd7ecc4cdb50</td>\n",
       "      <td>3435297</td>\n",
       "      <td>838.0</td>\n",
       "      <td>834.0</td>\n",
       "      <td>2.0</td>\n",
       "      <td>31.8</td>\n",
       "    </tr>\n",
       "  </tbody>\n",
       "</table>\n",
       "</div>"
      ],
      "text/plain": [
       "                   order_id                   _date                   user_id  \\\n",
       "0  5efc2687f59a7f82441fe4ca  2020-07-01 09:00:39+03  5efb12173849bd7ecc4cdb50   \n",
       "1  5efc2687f59a7f82441fe4ca  2020-07-01 09:00:39+03  5efb12173849bd7ecc4cdb50   \n",
       "2  5efc2687f59a7f82441fe4ca  2020-07-01 09:00:39+03  5efb12173849bd7ecc4cdb50   \n",
       "3  5efc2687f59a7f82441fe4ca  2020-07-01 09:00:39+03  5efb12173849bd7ecc4cdb50   \n",
       "4  5efc2687f59a7f82441fe4ca  2020-07-01 09:00:39+03  5efb12173849bd7ecc4cdb50   \n",
       "\n",
       "    plu_id  category_id  parent_category_id  product_quantity  product_sum  \n",
       "0  3383918        855.0              1105.0               1.0         49.9  \n",
       "1  3489545        853.0               849.0               1.0         89.9  \n",
       "2  2068955        839.0               834.0               1.0         99.9  \n",
       "3  3435295        838.0               834.0               2.0         33.8  \n",
       "4  3435297        838.0               834.0               2.0         31.8  "
      ]
     },
     "execution_count": 6,
     "metadata": {},
     "output_type": "execute_result"
    }
   ],
   "source": [
    "# подгружаем данныые, смотрим первые 5 строк\n",
    "data = pd.read_csv('dataset_for_test_20200729_cleaned.csv',sep=';', decimal=\",\")\n",
    "data.head()"
   ]
  },
  {
   "cell_type": "code",
   "execution_count": 11,
   "metadata": {},
   "outputs": [
    {
     "data": {
      "text/plain": [
       "(332642, 8)"
      ]
     },
     "execution_count": 11,
     "metadata": {},
     "output_type": "execute_result"
    }
   ],
   "source": [
    "# проверяем размерность таблицы\n",
    "data.shape"
   ]
  },
  {
   "cell_type": "code",
   "execution_count": 8,
   "metadata": {},
   "outputs": [
    {
     "data": {
      "text/html": [
       "<div>\n",
       "<style scoped>\n",
       "    .dataframe tbody tr th:only-of-type {\n",
       "        vertical-align: middle;\n",
       "    }\n",
       "\n",
       "    .dataframe tbody tr th {\n",
       "        vertical-align: top;\n",
       "    }\n",
       "\n",
       "    .dataframe thead th {\n",
       "        text-align: right;\n",
       "    }\n",
       "</style>\n",
       "<table border=\"1\" class=\"dataframe\">\n",
       "  <thead>\n",
       "    <tr style=\"text-align: right;\">\n",
       "      <th></th>\n",
       "      <th>order_id</th>\n",
       "      <th>plu_id</th>\n",
       "    </tr>\n",
       "  </thead>\n",
       "  <tbody>\n",
       "    <tr>\n",
       "      <th>0</th>\n",
       "      <td>5efc2687f59a7f82441fe4ca</td>\n",
       "      <td>3383918</td>\n",
       "    </tr>\n",
       "    <tr>\n",
       "      <th>1</th>\n",
       "      <td>5efc2687f59a7f82441fe4ca</td>\n",
       "      <td>3489545</td>\n",
       "    </tr>\n",
       "    <tr>\n",
       "      <th>2</th>\n",
       "      <td>5efc2687f59a7f82441fe4ca</td>\n",
       "      <td>2068955</td>\n",
       "    </tr>\n",
       "    <tr>\n",
       "      <th>3</th>\n",
       "      <td>5efc2687f59a7f82441fe4ca</td>\n",
       "      <td>3435295</td>\n",
       "    </tr>\n",
       "    <tr>\n",
       "      <th>4</th>\n",
       "      <td>5efc2687f59a7f82441fe4ca</td>\n",
       "      <td>3435297</td>\n",
       "    </tr>\n",
       "  </tbody>\n",
       "</table>\n",
       "</div>"
      ],
      "text/plain": [
       "                   order_id   plu_id\n",
       "0  5efc2687f59a7f82441fe4ca  3383918\n",
       "1  5efc2687f59a7f82441fe4ca  3489545\n",
       "2  5efc2687f59a7f82441fe4ca  2068955\n",
       "3  5efc2687f59a7f82441fe4ca  3435295\n",
       "4  5efc2687f59a7f82441fe4ca  3435297"
      ]
     },
     "execution_count": 8,
     "metadata": {},
     "output_type": "execute_result"
    }
   ],
   "source": [
    "# делаем выборку только двух полей для модели: id заказа, id товара; смотрим первые 5 строк\n",
    "df = data.loc[:, ['order_id', 'plu_id']]\n",
    "df.head()"
   ]
  },
  {
   "cell_type": "code",
   "execution_count": 9,
   "metadata": {},
   "outputs": [
    {
     "data": {
      "text/plain": [
       "(332642, 2)"
      ]
     },
     "execution_count": 9,
     "metadata": {},
     "output_type": "execute_result"
    }
   ],
   "source": [
    "# проверяем размерность данных выборки, на всякий случай\n",
    "df.shape"
   ]
  },
  {
   "cell_type": "code",
   "execution_count": 12,
   "metadata": {},
   "outputs": [
    {
     "data": {
      "text/html": [
       "<div>\n",
       "<style scoped>\n",
       "    .dataframe tbody tr th:only-of-type {\n",
       "        vertical-align: middle;\n",
       "    }\n",
       "\n",
       "    .dataframe tbody tr th {\n",
       "        vertical-align: top;\n",
       "    }\n",
       "\n",
       "    .dataframe thead th {\n",
       "        text-align: right;\n",
       "    }\n",
       "</style>\n",
       "<table border=\"1\" class=\"dataframe\">\n",
       "  <thead>\n",
       "    <tr style=\"text-align: right;\">\n",
       "      <th></th>\n",
       "      <th>plu_id</th>\n",
       "    </tr>\n",
       "    <tr>\n",
       "      <th>order_id</th>\n",
       "      <th></th>\n",
       "    </tr>\n",
       "  </thead>\n",
       "  <tbody>\n",
       "    <tr>\n",
       "      <th>5efc2687f59a7f82441fe4ca</th>\n",
       "      <td>[3383918, 3489545, 2068955, 3435295, 3435297, ...</td>\n",
       "    </tr>\n",
       "    <tr>\n",
       "      <th>5efc26a0d9c459f11a8e122f</th>\n",
       "      <td>[1860, 2139858, 3170135, 3341462, 45463, 36955...</td>\n",
       "    </tr>\n",
       "    <tr>\n",
       "      <th>5efc26a4d9c45903d38e1247</th>\n",
       "      <td>[2137027, 1536, 3661004, 3664384, 3674166, 368...</td>\n",
       "    </tr>\n",
       "    <tr>\n",
       "      <th>5efc26b4d9c459748e8e126c</th>\n",
       "      <td>[3477505, 43693, 79108, 3639749, 3444750, 3682...</td>\n",
       "    </tr>\n",
       "    <tr>\n",
       "      <th>5efc26c1f59a7f62941fe522</th>\n",
       "      <td>[2144368, 18510, 3480546, 3224596, 3998557, 40...</td>\n",
       "    </tr>\n",
       "  </tbody>\n",
       "</table>\n",
       "</div>"
      ],
      "text/plain": [
       "                                                                     plu_id\n",
       "order_id                                                                   \n",
       "5efc2687f59a7f82441fe4ca  [3383918, 3489545, 2068955, 3435295, 3435297, ...\n",
       "5efc26a0d9c459f11a8e122f  [1860, 2139858, 3170135, 3341462, 45463, 36955...\n",
       "5efc26a4d9c45903d38e1247  [2137027, 1536, 3661004, 3664384, 3674166, 368...\n",
       "5efc26b4d9c459748e8e126c  [3477505, 43693, 79108, 3639749, 3444750, 3682...\n",
       "5efc26c1f59a7f62941fe522  [2144368, 18510, 3480546, 3224596, 3998557, 40..."
      ]
     },
     "execution_count": 12,
     "metadata": {},
     "output_type": "execute_result"
    }
   ],
   "source": [
    "# группируем плоские данные по заказам, продукты в одном заказе схлопываются в список в одной строке\n",
    "df2 = df.groupby('order_id').agg(lambda x: x.tolist())\n",
    "df2.head()"
   ]
  },
  {
   "cell_type": "code",
   "execution_count": 13,
   "metadata": {},
   "outputs": [
    {
     "data": {
      "text/plain": [
       "(23773, 1)"
      ]
     },
     "execution_count": 13,
     "metadata": {},
     "output_type": "execute_result"
    }
   ],
   "source": [
    "# смотрим размерность полученного агрегата\n",
    "df2.shape"
   ]
  },
  {
   "cell_type": "code",
   "execution_count": 15,
   "metadata": {},
   "outputs": [
    {
     "data": {
      "text/plain": [
       "23773"
      ]
     },
     "execution_count": 15,
     "metadata": {},
     "output_type": "execute_result"
    }
   ],
   "source": [
    "# датасет типа pandas data frame преобразовываем в обычный список для модели, которая на вход принимает объект типа список,\n",
    "# и снова проверяю его длину\n",
    "temp = df2['plu_id'].to_list()\n",
    "len(temp)"
   ]
  },
  {
   "cell_type": "markdown",
   "metadata": {},
   "source": [
    "### Создание модели для поиска ассоциативных правил"
   ]
  },
  {
   "cell_type": "code",
   "execution_count": 23,
   "metadata": {},
   "outputs": [],
   "source": [
    "# создаем объект модели, передаем в нее данные, обучаем\n",
    "te = TransactionEncoder()\n",
    "te_ary = te.fit(temp).transform(temp)\n",
    "df = pd.DataFrame(te_ary, columns=te.columns_)"
   ]
  },
  {
   "cell_type": "markdown",
   "metadata": {},
   "source": [
    "### В следующем участке кода определяются значения нескольких гиперпараметров для модели. Управляя ими, мы определяем результат ее работы. Условно, если задать высокие требования к модели,то на выходе получим мало пар (или совсем не получим). В данном экземпляре конкретные значения гиперпараметров найдены эмпирическим способом. "
   ]
  },
  {
   "cell_type": "markdown",
   "metadata": {},
   "source": [
    "------"
   ]
  },
  {
   "cell_type": "markdown",
   "metadata": {},
   "source": [
    "Тут задаем уровень минимальной поддержки - фактически, это минимальная доля заказов в датасете, в которых есть пары товаров. "
   ]
  },
  {
   "cell_type": "code",
   "execution_count": 28,
   "metadata": {},
   "outputs": [],
   "source": [
    "# На датасете примера высокие значения этого параметра приводили к нулевому результату, возможно, из разношерстности заказов по\n",
    "# товарным наборам. В итоге, чтобы модель заработала и дала выхлоп, остановился на таком значении:\n",
    "MIN_SUPPORT = 0.03\n",
    "\n",
    "frequent_itemsets = apriori(df, min_support=MIN_SUPPORT, use_colnames=True)\n",
    "# frequent_itemsets"
   ]
  },
  {
   "cell_type": "markdown",
   "metadata": {},
   "source": [
    "\n",
    "### Далее из полученного на пред.шаге набора правил отбираем пары с заданным уровнем качества. Пары фильтруются 2 раза, независимо друг от друга по приницпу - давайте отберем по одному признаку или давайте по другому\n"
   ]
  },
  {
   "cell_type": "markdown",
   "metadata": {},
   "source": [
    "---"
   ]
  },
  {
   "cell_type": "markdown",
   "metadata": {},
   "source": [
    "Тут отбираем по Confidence. Он о том, как часто это правило работает для датасета (процент тех, кто покупает оба товара в проценте от тех, кто купил первый). "
   ]
  },
  {
   "cell_type": "code",
   "execution_count": 42,
   "metadata": {},
   "outputs": [
    {
     "data": {
      "text/html": [
       "<div>\n",
       "<style scoped>\n",
       "    .dataframe tbody tr th:only-of-type {\n",
       "        vertical-align: middle;\n",
       "    }\n",
       "\n",
       "    .dataframe tbody tr th {\n",
       "        vertical-align: top;\n",
       "    }\n",
       "\n",
       "    .dataframe thead th {\n",
       "        text-align: right;\n",
       "    }\n",
       "</style>\n",
       "<table border=\"1\" class=\"dataframe\">\n",
       "  <thead>\n",
       "    <tr style=\"text-align: right;\">\n",
       "      <th></th>\n",
       "      <th>antecedents</th>\n",
       "      <th>consequents</th>\n",
       "      <th>antecedent support</th>\n",
       "      <th>consequent support</th>\n",
       "      <th>support</th>\n",
       "      <th>confidence</th>\n",
       "      <th>lift</th>\n",
       "      <th>leverage</th>\n",
       "      <th>conviction</th>\n",
       "    </tr>\n",
       "  </thead>\n",
       "  <tbody>\n",
       "    <tr>\n",
       "      <th>0</th>\n",
       "      <td>(4072)</td>\n",
       "      <td>(5013)</td>\n",
       "      <td>0.179027</td>\n",
       "      <td>0.120052</td>\n",
       "      <td>0.033357</td>\n",
       "      <td>0.186325</td>\n",
       "      <td>1.552035</td>\n",
       "      <td>0.011865</td>\n",
       "      <td>1.081449</td>\n",
       "    </tr>\n",
       "    <tr>\n",
       "      <th>1</th>\n",
       "      <td>(5013)</td>\n",
       "      <td>(4072)</td>\n",
       "      <td>0.120052</td>\n",
       "      <td>0.179027</td>\n",
       "      <td>0.033357</td>\n",
       "      <td>0.277856</td>\n",
       "      <td>1.552035</td>\n",
       "      <td>0.011865</td>\n",
       "      <td>1.136855</td>\n",
       "    </tr>\n",
       "    <tr>\n",
       "      <th>2</th>\n",
       "      <td>(4072)</td>\n",
       "      <td>(45463)</td>\n",
       "      <td>0.179027</td>\n",
       "      <td>0.105203</td>\n",
       "      <td>0.033820</td>\n",
       "      <td>0.188910</td>\n",
       "      <td>1.795663</td>\n",
       "      <td>0.014986</td>\n",
       "      <td>1.103202</td>\n",
       "    </tr>\n",
       "    <tr>\n",
       "      <th>3</th>\n",
       "      <td>(45463)</td>\n",
       "      <td>(4072)</td>\n",
       "      <td>0.105203</td>\n",
       "      <td>0.179027</td>\n",
       "      <td>0.033820</td>\n",
       "      <td>0.321471</td>\n",
       "      <td>1.795663</td>\n",
       "      <td>0.014986</td>\n",
       "      <td>1.209932</td>\n",
       "    </tr>\n",
       "    <tr>\n",
       "      <th>4</th>\n",
       "      <td>(4072)</td>\n",
       "      <td>(45505)</td>\n",
       "      <td>0.179027</td>\n",
       "      <td>0.165398</td>\n",
       "      <td>0.057965</td>\n",
       "      <td>0.323778</td>\n",
       "      <td>1.957574</td>\n",
       "      <td>0.028354</td>\n",
       "      <td>1.234214</td>\n",
       "    </tr>\n",
       "  </tbody>\n",
       "</table>\n",
       "</div>"
      ],
      "text/plain": [
       "  antecedents consequents  antecedent support  consequent support   support  \\\n",
       "0      (4072)      (5013)            0.179027            0.120052  0.033357   \n",
       "1      (5013)      (4072)            0.120052            0.179027  0.033357   \n",
       "2      (4072)     (45463)            0.179027            0.105203  0.033820   \n",
       "3     (45463)      (4072)            0.105203            0.179027  0.033820   \n",
       "4      (4072)     (45505)            0.179027            0.165398  0.057965   \n",
       "\n",
       "   confidence      lift  leverage  conviction  \n",
       "0    0.186325  1.552035  0.011865    1.081449  \n",
       "1    0.277856  1.552035  0.011865    1.136855  \n",
       "2    0.188910  1.795663  0.014986    1.103202  \n",
       "3    0.321471  1.795663  0.014986    1.209932  \n",
       "4    0.323778  1.957574  0.028354    1.234214  "
      ]
     },
     "execution_count": 42,
     "metadata": {},
     "output_type": "execute_result"
    }
   ],
   "source": [
    "# в данном случае эмипирически выбрано следующее минимальное значение: \n",
    "CONFIDENCE = 0.1\n",
    "\n",
    "# запуск фильтрации\n",
    "pairs_conf = association_rules(frequent_itemsets, metric=\"confidence\", min_threshold=CONFIDENCE)\n",
    "\n",
    "# вывод результата работы модели со статистическими показателями, выборка нескольких строк\n",
    "pairs_conf.head()"
   ]
  },
  {
   "cell_type": "markdown",
   "metadata": {},
   "source": [
    "В списке выше идшки товаров приведены в полях antecedents и consequents."
   ]
  },
  {
   "cell_type": "code",
   "execution_count": 46,
   "metadata": {},
   "outputs": [
    {
     "data": {
      "text/html": [
       "<div>\n",
       "<style scoped>\n",
       "    .dataframe tbody tr th:only-of-type {\n",
       "        vertical-align: middle;\n",
       "    }\n",
       "\n",
       "    .dataframe tbody tr th {\n",
       "        vertical-align: top;\n",
       "    }\n",
       "\n",
       "    .dataframe thead th {\n",
       "        text-align: right;\n",
       "    }\n",
       "</style>\n",
       "<table border=\"1\" class=\"dataframe\">\n",
       "  <thead>\n",
       "    <tr style=\"text-align: right;\">\n",
       "      <th></th>\n",
       "      <th>antecedents</th>\n",
       "      <th>consequents</th>\n",
       "    </tr>\n",
       "  </thead>\n",
       "  <tbody>\n",
       "    <tr>\n",
       "      <th>0</th>\n",
       "      <td>(4072)</td>\n",
       "      <td>(5013)</td>\n",
       "    </tr>\n",
       "    <tr>\n",
       "      <th>1</th>\n",
       "      <td>(5013)</td>\n",
       "      <td>(4072)</td>\n",
       "    </tr>\n",
       "    <tr>\n",
       "      <th>2</th>\n",
       "      <td>(4072)</td>\n",
       "      <td>(45463)</td>\n",
       "    </tr>\n",
       "    <tr>\n",
       "      <th>3</th>\n",
       "      <td>(45463)</td>\n",
       "      <td>(4072)</td>\n",
       "    </tr>\n",
       "    <tr>\n",
       "      <th>4</th>\n",
       "      <td>(4072)</td>\n",
       "      <td>(45505)</td>\n",
       "    </tr>\n",
       "    <tr>\n",
       "      <th>5</th>\n",
       "      <td>(45505)</td>\n",
       "      <td>(4072)</td>\n",
       "    </tr>\n",
       "    <tr>\n",
       "      <th>6</th>\n",
       "      <td>(4072)</td>\n",
       "      <td>(3638820)</td>\n",
       "    </tr>\n",
       "    <tr>\n",
       "      <th>7</th>\n",
       "      <td>(3638820)</td>\n",
       "      <td>(4072)</td>\n",
       "    </tr>\n",
       "    <tr>\n",
       "      <th>8</th>\n",
       "      <td>(4072)</td>\n",
       "      <td>(3639749)</td>\n",
       "    </tr>\n",
       "    <tr>\n",
       "      <th>9</th>\n",
       "      <td>(3639749)</td>\n",
       "      <td>(4072)</td>\n",
       "    </tr>\n",
       "    <tr>\n",
       "      <th>10</th>\n",
       "      <td>(4072)</td>\n",
       "      <td>(3695580)</td>\n",
       "    </tr>\n",
       "    <tr>\n",
       "      <th>11</th>\n",
       "      <td>(3695580)</td>\n",
       "      <td>(4072)</td>\n",
       "    </tr>\n",
       "    <tr>\n",
       "      <th>12</th>\n",
       "      <td>(45505)</td>\n",
       "      <td>(45463)</td>\n",
       "    </tr>\n",
       "    <tr>\n",
       "      <th>13</th>\n",
       "      <td>(45463)</td>\n",
       "      <td>(45505)</td>\n",
       "    </tr>\n",
       "    <tr>\n",
       "      <th>14</th>\n",
       "      <td>(52112)</td>\n",
       "      <td>(45463)</td>\n",
       "    </tr>\n",
       "    <tr>\n",
       "      <th>15</th>\n",
       "      <td>(45463)</td>\n",
       "      <td>(52112)</td>\n",
       "    </tr>\n",
       "    <tr>\n",
       "      <th>16</th>\n",
       "      <td>(45505)</td>\n",
       "      <td>(3638820)</td>\n",
       "    </tr>\n",
       "    <tr>\n",
       "      <th>17</th>\n",
       "      <td>(3638820)</td>\n",
       "      <td>(45505)</td>\n",
       "    </tr>\n",
       "    <tr>\n",
       "      <th>18</th>\n",
       "      <td>(45505)</td>\n",
       "      <td>(3639749)</td>\n",
       "    </tr>\n",
       "    <tr>\n",
       "      <th>19</th>\n",
       "      <td>(3639749)</td>\n",
       "      <td>(45505)</td>\n",
       "    </tr>\n",
       "  </tbody>\n",
       "</table>\n",
       "</div>"
      ],
      "text/plain": [
       "   antecedents consequents\n",
       "0       (4072)      (5013)\n",
       "1       (5013)      (4072)\n",
       "2       (4072)     (45463)\n",
       "3      (45463)      (4072)\n",
       "4       (4072)     (45505)\n",
       "5      (45505)      (4072)\n",
       "6       (4072)   (3638820)\n",
       "7    (3638820)      (4072)\n",
       "8       (4072)   (3639749)\n",
       "9    (3639749)      (4072)\n",
       "10      (4072)   (3695580)\n",
       "11   (3695580)      (4072)\n",
       "12     (45505)     (45463)\n",
       "13     (45463)     (45505)\n",
       "14     (52112)     (45463)\n",
       "15     (45463)     (52112)\n",
       "16     (45505)   (3638820)\n",
       "17   (3638820)     (45505)\n",
       "18     (45505)   (3639749)\n",
       "19   (3639749)     (45505)"
      ]
     },
     "execution_count": 46,
     "metadata": {},
     "output_type": "execute_result"
    }
   ],
   "source": [
    "# делаем выборку полей только с идшками пар товаров\n",
    "pairs_conf_data = pairs.loc[:, ['antecedents', 'consequents']]\n",
    "pairs_conf_data"
   ]
  },
  {
   "cell_type": "markdown",
   "metadata": {},
   "source": [
    "------"
   ]
  },
  {
   "cell_type": "markdown",
   "metadata": {},
   "source": [
    "Тут отбираем пары по Lift. Он о достоверности правила (отношение: оба товара покупаются вместе / товар покупался вообще). Значение д.б. больше 1 для отбора работающих правил."
   ]
  },
  {
   "cell_type": "code",
   "execution_count": 47,
   "metadata": {},
   "outputs": [
    {
     "data": {
      "text/html": [
       "<div>\n",
       "<style scoped>\n",
       "    .dataframe tbody tr th:only-of-type {\n",
       "        vertical-align: middle;\n",
       "    }\n",
       "\n",
       "    .dataframe tbody tr th {\n",
       "        vertical-align: top;\n",
       "    }\n",
       "\n",
       "    .dataframe thead th {\n",
       "        text-align: right;\n",
       "    }\n",
       "</style>\n",
       "<table border=\"1\" class=\"dataframe\">\n",
       "  <thead>\n",
       "    <tr style=\"text-align: right;\">\n",
       "      <th></th>\n",
       "      <th>antecedents</th>\n",
       "      <th>consequents</th>\n",
       "    </tr>\n",
       "  </thead>\n",
       "  <tbody>\n",
       "    <tr>\n",
       "      <th>0</th>\n",
       "      <td>(4072)</td>\n",
       "      <td>(5013)</td>\n",
       "    </tr>\n",
       "    <tr>\n",
       "      <th>1</th>\n",
       "      <td>(5013)</td>\n",
       "      <td>(4072)</td>\n",
       "    </tr>\n",
       "    <tr>\n",
       "      <th>2</th>\n",
       "      <td>(4072)</td>\n",
       "      <td>(45463)</td>\n",
       "    </tr>\n",
       "    <tr>\n",
       "      <th>3</th>\n",
       "      <td>(45463)</td>\n",
       "      <td>(4072)</td>\n",
       "    </tr>\n",
       "    <tr>\n",
       "      <th>4</th>\n",
       "      <td>(4072)</td>\n",
       "      <td>(45505)</td>\n",
       "    </tr>\n",
       "    <tr>\n",
       "      <th>5</th>\n",
       "      <td>(45505)</td>\n",
       "      <td>(4072)</td>\n",
       "    </tr>\n",
       "    <tr>\n",
       "      <th>6</th>\n",
       "      <td>(4072)</td>\n",
       "      <td>(3638820)</td>\n",
       "    </tr>\n",
       "    <tr>\n",
       "      <th>7</th>\n",
       "      <td>(3638820)</td>\n",
       "      <td>(4072)</td>\n",
       "    </tr>\n",
       "    <tr>\n",
       "      <th>8</th>\n",
       "      <td>(4072)</td>\n",
       "      <td>(3639749)</td>\n",
       "    </tr>\n",
       "    <tr>\n",
       "      <th>9</th>\n",
       "      <td>(3639749)</td>\n",
       "      <td>(4072)</td>\n",
       "    </tr>\n",
       "    <tr>\n",
       "      <th>10</th>\n",
       "      <td>(4072)</td>\n",
       "      <td>(3695580)</td>\n",
       "    </tr>\n",
       "    <tr>\n",
       "      <th>11</th>\n",
       "      <td>(3695580)</td>\n",
       "      <td>(4072)</td>\n",
       "    </tr>\n",
       "    <tr>\n",
       "      <th>12</th>\n",
       "      <td>(45505)</td>\n",
       "      <td>(45463)</td>\n",
       "    </tr>\n",
       "    <tr>\n",
       "      <th>13</th>\n",
       "      <td>(45463)</td>\n",
       "      <td>(45505)</td>\n",
       "    </tr>\n",
       "    <tr>\n",
       "      <th>14</th>\n",
       "      <td>(52112)</td>\n",
       "      <td>(45463)</td>\n",
       "    </tr>\n",
       "    <tr>\n",
       "      <th>15</th>\n",
       "      <td>(45463)</td>\n",
       "      <td>(52112)</td>\n",
       "    </tr>\n",
       "    <tr>\n",
       "      <th>16</th>\n",
       "      <td>(45505)</td>\n",
       "      <td>(3638820)</td>\n",
       "    </tr>\n",
       "    <tr>\n",
       "      <th>17</th>\n",
       "      <td>(3638820)</td>\n",
       "      <td>(45505)</td>\n",
       "    </tr>\n",
       "    <tr>\n",
       "      <th>18</th>\n",
       "      <td>(45505)</td>\n",
       "      <td>(3639749)</td>\n",
       "    </tr>\n",
       "    <tr>\n",
       "      <th>19</th>\n",
       "      <td>(3639749)</td>\n",
       "      <td>(45505)</td>\n",
       "    </tr>\n",
       "  </tbody>\n",
       "</table>\n",
       "</div>"
      ],
      "text/plain": [
       "   antecedents consequents\n",
       "0       (4072)      (5013)\n",
       "1       (5013)      (4072)\n",
       "2       (4072)     (45463)\n",
       "3      (45463)      (4072)\n",
       "4       (4072)     (45505)\n",
       "5      (45505)      (4072)\n",
       "6       (4072)   (3638820)\n",
       "7    (3638820)      (4072)\n",
       "8       (4072)   (3639749)\n",
       "9    (3639749)      (4072)\n",
       "10      (4072)   (3695580)\n",
       "11   (3695580)      (4072)\n",
       "12     (45505)     (45463)\n",
       "13     (45463)     (45505)\n",
       "14     (52112)     (45463)\n",
       "15     (45463)     (52112)\n",
       "16     (45505)   (3638820)\n",
       "17   (3638820)     (45505)\n",
       "18     (45505)   (3639749)\n",
       "19   (3639749)     (45505)"
      ]
     },
     "execution_count": 47,
     "metadata": {},
     "output_type": "execute_result"
    }
   ],
   "source": [
    "# фильтруем по минимальном значению 1.2\n",
    "LIFT = 1.2\n",
    "\n",
    "rules_lift = association_rules(frequent_itemsets, metric=\"lift\", min_threshold=LIFT)\n",
    "rules_lift_data = rules_lift.loc[:, ['antecedents', 'consequents']]\n",
    "rules_lift_data"
   ]
  },
  {
   "cell_type": "code",
   "execution_count": null,
   "metadata": {},
   "outputs": [],
   "source": []
  }
 ],
 "metadata": {
  "kernelspec": {
   "display_name": "Python 3",
   "language": "python",
   "name": "python3"
  },
  "language_info": {
   "codemirror_mode": {
    "name": "ipython",
    "version": 3
   },
   "file_extension": ".py",
   "mimetype": "text/x-python",
   "name": "python",
   "nbconvert_exporter": "python",
   "pygments_lexer": "ipython3",
   "version": "3.6.11"
  }
 },
 "nbformat": 4,
 "nbformat_minor": 4
}
